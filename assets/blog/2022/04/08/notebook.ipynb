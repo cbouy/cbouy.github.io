{
 "cells": [
  {
   "cell_type": "markdown",
   "id": "40a24f1e",
   "metadata": {},
   "source": [
    "## 1. Creating a text representation for your class\n",
    "\n",
    "Let's start with the basics! The way to do this is to add a `__repr__` method to your class.\n",
    "\n",
    "We'll start with a simple example: we'll create a `Molecule` class which takes a SMILES as input, and for the representation we'll just show a descriptive text with the SMILES."
   ]
  },
  {
   "cell_type": "code",
   "execution_count": 1,
   "id": "db687006",
   "metadata": {},
   "outputs": [
    {
     "data": {
      "text/plain": [
       "<Molecule SMILES=\"CC(=O)NCCC1=CNc2c1cc(OC)cc2\">"
      ]
     },
     "execution_count": 1,
     "metadata": {},
     "output_type": "execute_result"
    }
   ],
   "source": [
    "class Molecule:\n",
    "    def __init__(self, smiles):\n",
    "        self.smiles = smiles\n",
    "\n",
    "    def __repr__(self):\n",
    "        return f'<Molecule SMILES=\"{self.smiles}\">'\n",
    "\n",
    "Molecule(\"CC(=O)NCCC1=CNc2c1cc(OC)cc2\")"
   ]
  },
  {
   "cell_type": "markdown",
   "id": "13d058cc",
   "metadata": {},
   "source": [
    "## 2. Creating rich displays for your classes\n",
    "\n",
    "Plain text is great if you're still using a fax machine, but Jupyter-notebooks support numerous \"richer\" output types: images (PNG, SVG, JPEG), HTML, LaTeX, MarkDown, and more!\n",
    "\n",
    "The most straightforward way to use of of these is to implement a `_repr_<type>_` method for your class, you can get the list of supported formats [here](https://ipython.readthedocs.io/en/stable/config/integrating.html#id1).\n",
    "\n",
    "We'll continue from the previous `Molecule` example, and for the representation we'll fetch the PNG image from PubChem and display it in a `_repr_png_` method."
   ]
  },
  {
   "cell_type": "code",
   "execution_count": 2,
   "id": "fbc42979",
   "metadata": {},
   "outputs": [],
   "source": [
    "import requests\n",
    "from html import escape\n",
    "\n",
    "class Molecule:\n",
    "    def __init__(self, smiles):\n",
    "        self.smiles = smiles\n",
    "\n",
    "    def __repr__(self):\n",
    "        return f'<Molecule SMILES=\"{self.smiles}\">'\n",
    "\n",
    "    def _repr_png_(self):\n",
    "        smiles = escape(self.smiles)\n",
    "        url = f\"https://pubchem.ncbi.nlm.nih.gov/rest/pug/compound/smiles/{smiles}/PNG\"\n",
    "        query = requests.get(url)\n",
    "        if query.ok:\n",
    "            png = query.content\n",
    "            return png"
   ]
  },
  {
   "cell_type": "code",
   "execution_count": 3,
   "id": "b701e49b",
   "metadata": {},
   "outputs": [
    {
     "data": {
      "image/png": "[encoded data removed]",
      "text/plain": [
       "<Molecule SMILES=\"CC(=O)NCCC1=CNc2c1cc(OC)cc2\">"
      ]
     },
     "execution_count": 3,
     "metadata": {},
     "output_type": "execute_result"
    }
   ],
   "source": [
    "Molecule(\"CC(=O)NCCC1=CNc2c1cc(OC)cc2\")"
   ]
  },
  {
   "cell_type": "markdown",
   "id": "e53f6a2b",
   "metadata": {},
   "source": [
    "The good thing is that if the `_repr_png_` method is called but doesn't return any value (because the molecule could not be found in PubChem for example), it falls back to using the `__repr__` method."
   ]
  },
  {
   "cell_type": "code",
   "execution_count": 4,
   "id": "d205b33d",
   "metadata": {},
   "outputs": [
    {
     "data": {
      "text/plain": [
       "<Molecule SMILES=\"CCCCCCCCCCCCCCCCCCCCCCCCCCCCCCCCCCCCCCCCCCCCCCCCCCCCCCCCCCCCCCCCCCCCCCCCCCCCCCCCCCCCCCCCCCCCCCCCCCCCCCCCCCCCCCCCCCCCCCCCCCCCCCCCCCCCCCCCCCCCCCCCCCCCCCCCCCCCCCCCCCCCCCCCCCCCCCCCCCCCCCCCCCCCCCCCCCCCCCCCCCCCCCCCCCCCCCCCCCCCCCCCCCCCCCCCCCCCCCCCCCCCCCCCCCCCCCCCCCCCCCCCCCCCCCCCCCCCCCCCCCCCCCCCCCCCCCCCCCCCCCCCCCCCCCCCCCCCCCCCCCCCCCCCCCCCC\">"
      ]
     },
     "execution_count": 4,
     "metadata": {},
     "output_type": "execute_result"
    }
   ],
   "source": [
    "Molecule(\"C\"*333)"
   ]
  },
  {
   "cell_type": "markdown",
   "id": "b968b2d4",
   "metadata": {},
   "source": [
    "This way you can decide wether or not to use the rich display for a molecule based on some other factors like the number of heavy atoms for example, and fall back to text for very large ones that wouldn't produce a readable image."
   ]
  },
  {
   "cell_type": "markdown",
   "id": "7d3367f9",
   "metadata": {},
   "source": [
    "## 3. Rich displays for built-in types\n",
    "\n",
    "Okay that's great, but what about built-in types? Can I just add a rich display method to `list` or `str`?\n",
    "\n",
    "Well... not with the previous methodology, Python won't let you mess around with built-in types methods:\n",
    "\n",
    ">TypeError: can't set attributes of built-in/extension type 'list'\n",
    "\n",
    "But there's an alternative way of registering rich displays for any class or build-in type.\n",
    "\n",
    "In this example, we will register a new rich display for `list` using the `text/markdown` format:"
   ]
  },
  {
   "cell_type": "code",
   "execution_count": 5,
   "id": "84296176",
   "metadata": {},
   "outputs": [
    {
     "data": {
      "text/plain": [
       "['Never gonna give you up',\n",
       " 'Never gonna let you down',\n",
       " 'Never gonna run around and desert you']"
      ]
     },
     "execution_count": 5,
     "metadata": {},
     "output_type": "execute_result"
    }
   ],
   "source": [
    "example = [\n",
    "    \"Never gonna give you up\",\n",
    "    \"Never gonna let you down\",\n",
    "    \"Never gonna run around and desert you\"\n",
    "]\n",
    "\n",
    "example"
   ]
  },
  {
   "cell_type": "code",
   "execution_count": 6,
   "id": "7e59f042",
   "metadata": {},
   "outputs": [
    {
     "data": {
      "text/markdown": [
       "- ***Never gonna give you up***\n",
       "- ***Never gonna let you down***\n",
       "- ***Never gonna run around and desert you***"
      ],
      "text/plain": [
       "['Never gonna give you up',\n",
       " 'Never gonna let you down',\n",
       " 'Never gonna run around and desert you']"
      ]
     },
     "execution_count": 6,
     "metadata": {},
     "output_type": "execute_result"
    }
   ],
   "source": [
    "def markdown_stylish_bullet_point(items):\n",
    "    \"\"\"Creates a bullet point MarkDown string out of a list of strings\"\"\"\n",
    "    return \"\\n\".join(f\"- ***{item}***\" for item in items)\n",
    "\n",
    "(get_ipython()\n",
    " .display_formatter.formatters['text/markdown']\n",
    " .for_type(list, markdown_stylish_bullet_point))\n",
    "\n",
    "example"
   ]
  },
  {
   "cell_type": "markdown",
   "id": "450f79e0",
   "metadata": {},
   "source": [
    "Now you can use something similar for other builtins like `str`, `int` and others.\n",
    "\n",
    "To get the list of available output formats using this method:"
   ]
  },
  {
   "cell_type": "code",
   "execution_count": 7,
   "id": "df2d59cb",
   "metadata": {},
   "outputs": [
    {
     "data": {
      "text/markdown": [
       "- ***text/plain***\n",
       "- ***text/html***\n",
       "- ***text/markdown***\n",
       "- ***image/svg+xml***\n",
       "- ***image/png***\n",
       "- ***application/pdf***\n",
       "- ***image/jpeg***\n",
       "- ***text/latex***\n",
       "- ***application/json***\n",
       "- ***application/javascript***"
      ],
      "text/plain": [
       "['text/plain',\n",
       " 'text/html',\n",
       " 'text/markdown',\n",
       " 'image/svg+xml',\n",
       " 'image/png',\n",
       " 'application/pdf',\n",
       " 'image/jpeg',\n",
       " 'text/latex',\n",
       " 'application/json',\n",
       " 'application/javascript']"
      ]
     },
     "execution_count": 7,
     "metadata": {},
     "output_type": "execute_result"
    }
   ],
   "source": [
    "list(get_ipython().display_formatter.formatters.keys())"
   ]
  },
  {
   "cell_type": "markdown",
   "id": "69cdd322",
   "metadata": {},
   "source": [
    "Note that this won't affect calls to `print(...)` or `__repr__()`, it will only be active when you explicitely call `IPython.display.display` on the object, or when the object is the last instruction of a cell.\n",
    "\n",
    "But what practically useful things can you do with this?\n",
    "\n",
    "You can already create a function to draw the molecule corresponding to a SMILES, or a grid of molecules, and so on, so why bother? Well... I'll admit, this is mostly usefull out of... lazyness!\n",
    "\n",
    "Ever been too lazy to type `Chem.MolFromSmiles(...)` to visualize what a molecule looks like?\n",
    "\n",
    "Here's how to automatically display strings that could correspond to a SMILES as molecules:"
   ]
  },
  {
   "cell_type": "code",
   "execution_count": 8,
   "id": "c27553ae",
   "metadata": {},
   "outputs": [
    {
     "data": {
      "image/svg+xml": [
       "<?xml version='1.0' encoding='iso-8859-1'?>\n",
       "<svg version='1.1' baseProfile='full'\n",
       "              xmlns='http://www.w3.org/2000/svg'\n",
       "                      xmlns:rdkit='http://www.rdkit.org/xml'\n",
       "                      xmlns:xlink='http://www.w3.org/1999/xlink'\n",
       "                  xml:space='preserve'\n",
       "width='450px' height='150px' viewBox='0 0 450 150'>\n",
       "<!-- END OF HEADER -->\n",
       "<rect style='opacity:1.0;fill:#FFFFFF;stroke:none' width='450' height='150' x='0' y='0'> </rect>\n",
       "<path class='bond-0' d='M 117.581,107.579 L 138.938,87.0596' style='fill:none;fill-rule:evenodd;stroke:#000000;stroke-width:2.0px;stroke-linecap:butt;stroke-linejoin:miter;stroke-opacity:1' />\n",
       "<path class='bond-1' d='M 141.814,86.3504 L 138.898,74.5285' style='fill:none;fill-rule:evenodd;stroke:#000000;stroke-width:2.0px;stroke-linecap:butt;stroke-linejoin:miter;stroke-opacity:1' />\n",
       "<path class='bond-1' d='M 138.898,74.5285 L 135.983,62.7066' style='fill:none;fill-rule:evenodd;stroke:#FF0000;stroke-width:2.0px;stroke-linecap:butt;stroke-linejoin:miter;stroke-opacity:1' />\n",
       "<path class='bond-1' d='M 136.063,87.7688 L 133.147,75.9468' style='fill:none;fill-rule:evenodd;stroke:#000000;stroke-width:2.0px;stroke-linecap:butt;stroke-linejoin:miter;stroke-opacity:1' />\n",
       "<path class='bond-1' d='M 133.147,75.9468 L 130.232,64.1249' style='fill:none;fill-rule:evenodd;stroke:#FF0000;stroke-width:2.0px;stroke-linecap:butt;stroke-linejoin:miter;stroke-opacity:1' />\n",
       "<path class='bond-2' d='M 138.938,87.0596 L 151.202,90.6101' style='fill:none;fill-rule:evenodd;stroke:#000000;stroke-width:2.0px;stroke-linecap:butt;stroke-linejoin:miter;stroke-opacity:1' />\n",
       "<path class='bond-2' d='M 151.202,90.6101 L 163.466,94.1607' style='fill:none;fill-rule:evenodd;stroke:#0000FF;stroke-width:2.0px;stroke-linecap:butt;stroke-linejoin:miter;stroke-opacity:1' />\n",
       "<path class='bond-3' d='M 171.309,91.5285 L 180.027,83.1525' style='fill:none;fill-rule:evenodd;stroke:#0000FF;stroke-width:2.0px;stroke-linecap:butt;stroke-linejoin:miter;stroke-opacity:1' />\n",
       "<path class='bond-3' d='M 180.027,83.1525 L 188.745,74.7765' style='fill:none;fill-rule:evenodd;stroke:#000000;stroke-width:2.0px;stroke-linecap:butt;stroke-linejoin:miter;stroke-opacity:1' />\n",
       "<path class='bond-4' d='M 188.745,74.7765 L 217.194,83.0128' style='fill:none;fill-rule:evenodd;stroke:#000000;stroke-width:2.0px;stroke-linecap:butt;stroke-linejoin:miter;stroke-opacity:1' />\n",
       "<path class='bond-5' d='M 217.194,83.0128 L 238.552,62.4934' style='fill:none;fill-rule:evenodd;stroke:#000000;stroke-width:2.0px;stroke-linecap:butt;stroke-linejoin:miter;stroke-opacity:1' />\n",
       "<path class='bond-6' d='M 238.552,62.4934 L 234.505,33.1538' style='fill:none;fill-rule:evenodd;stroke:#000000;stroke-width:2.0px;stroke-linecap:butt;stroke-linejoin:miter;stroke-opacity:1' />\n",
       "<path class='bond-6' d='M 243.812,57.283 L 240.979,36.7453' style='fill:none;fill-rule:evenodd;stroke:#000000;stroke-width:2.0px;stroke-linecap:butt;stroke-linejoin:miter;stroke-opacity:1' />\n",
       "<path class='bond-16' d='M 238.552,62.4934 L 267.706,67.7109' style='fill:none;fill-rule:evenodd;stroke:#000000;stroke-width:2.0px;stroke-linecap:butt;stroke-linejoin:miter;stroke-opacity:1' />\n",
       "<path class='bond-7' d='M 234.505,33.1538 L 245.87,27.6462' style='fill:none;fill-rule:evenodd;stroke:#000000;stroke-width:2.0px;stroke-linecap:butt;stroke-linejoin:miter;stroke-opacity:1' />\n",
       "<path class='bond-7' d='M 245.87,27.6462 L 257.236,22.1386' style='fill:none;fill-rule:evenodd;stroke:#0000FF;stroke-width:2.0px;stroke-linecap:butt;stroke-linejoin:miter;stroke-opacity:1' />\n",
       "<path class='bond-8' d='M 265.079,24.3199 L 273.378,32.9579' style='fill:none;fill-rule:evenodd;stroke:#0000FF;stroke-width:2.0px;stroke-linecap:butt;stroke-linejoin:miter;stroke-opacity:1' />\n",
       "<path class='bond-8' d='M 273.378,32.9579 L 281.677,41.5959' style='fill:none;fill-rule:evenodd;stroke:#000000;stroke-width:2.0px;stroke-linecap:butt;stroke-linejoin:miter;stroke-opacity:1' />\n",
       "<path class='bond-9' d='M 281.677,41.5959 L 267.706,67.7109' style='fill:none;fill-rule:evenodd;stroke:#000000;stroke-width:2.0px;stroke-linecap:butt;stroke-linejoin:miter;stroke-opacity:1' />\n",
       "<path class='bond-9' d='M 274.358,42.7189 L 264.578,60.9994' style='fill:none;fill-rule:evenodd;stroke:#000000;stroke-width:2.0px;stroke-linecap:butt;stroke-linejoin:miter;stroke-opacity:1' />\n",
       "<path class='bond-17' d='M 281.677,41.5959 L 311.279,40.6379' style='fill:none;fill-rule:evenodd;stroke:#000000;stroke-width:2.0px;stroke-linecap:butt;stroke-linejoin:miter;stroke-opacity:1' />\n",
       "<path class='bond-10' d='M 267.706,67.7109 L 283.336,92.8679' style='fill:none;fill-rule:evenodd;stroke:#000000;stroke-width:2.0px;stroke-linecap:butt;stroke-linejoin:miter;stroke-opacity:1' />\n",
       "<path class='bond-11' d='M 283.336,92.8679 L 312.938,91.9098' style='fill:none;fill-rule:evenodd;stroke:#000000;stroke-width:2.0px;stroke-linecap:butt;stroke-linejoin:miter;stroke-opacity:1' />\n",
       "<path class='bond-11' d='M 287.585,86.8038 L 308.306,86.1332' style='fill:none;fill-rule:evenodd;stroke:#000000;stroke-width:2.0px;stroke-linecap:butt;stroke-linejoin:miter;stroke-opacity:1' />\n",
       "<path class='bond-12' d='M 312.938,91.9098 L 319.206,101.998' style='fill:none;fill-rule:evenodd;stroke:#000000;stroke-width:2.0px;stroke-linecap:butt;stroke-linejoin:miter;stroke-opacity:1' />\n",
       "<path class='bond-12' d='M 319.206,101.998 L 325.474,112.085' style='fill:none;fill-rule:evenodd;stroke:#FF0000;stroke-width:2.0px;stroke-linecap:butt;stroke-linejoin:miter;stroke-opacity:1' />\n",
       "<path class='bond-14' d='M 312.938,91.9098 L 326.909,65.7948' style='fill:none;fill-rule:evenodd;stroke:#000000;stroke-width:2.0px;stroke-linecap:butt;stroke-linejoin:miter;stroke-opacity:1' />\n",
       "<path class='bond-13' d='M 325.834,122.179 L 320.216,132.68' style='fill:none;fill-rule:evenodd;stroke:#FF0000;stroke-width:2.0px;stroke-linecap:butt;stroke-linejoin:miter;stroke-opacity:1' />\n",
       "<path class='bond-13' d='M 320.216,132.68 L 314.598,143.182' style='fill:none;fill-rule:evenodd;stroke:#000000;stroke-width:2.0px;stroke-linecap:butt;stroke-linejoin:miter;stroke-opacity:1' />\n",
       "<path class='bond-15' d='M 326.909,65.7948 L 311.279,40.6379' style='fill:none;fill-rule:evenodd;stroke:#000000;stroke-width:2.0px;stroke-linecap:butt;stroke-linejoin:miter;stroke-opacity:1' />\n",
       "<path class='bond-15' d='M 319.534,65.1474 L 308.592,47.5375' style='fill:none;fill-rule:evenodd;stroke:#000000;stroke-width:2.0px;stroke-linecap:butt;stroke-linejoin:miter;stroke-opacity:1' />\n",
       "<path  class='atom-2' d='M 127.996 58.3275\n",
       "Q 127.996 56.3135, 128.992 55.188\n",
       "Q 129.987 54.0626, 131.847 54.0626\n",
       "Q 133.707 54.0626, 134.702 55.188\n",
       "Q 135.697 56.3135, 135.697 58.3275\n",
       "Q 135.697 60.3651, 134.69 61.5261\n",
       "Q 133.683 62.6753, 131.847 62.6753\n",
       "Q 129.999 62.6753, 128.992 61.5261\n",
       "Q 127.996 60.377, 127.996 58.3275\n",
       "M 131.847 61.7275\n",
       "Q 133.126 61.7275, 133.813 60.8746\n",
       "Q 134.512 60.0097, 134.512 58.3275\n",
       "Q 134.512 56.6807, 133.813 55.8514\n",
       "Q 133.126 55.0103, 131.847 55.0103\n",
       "Q 130.567 55.0103, 129.868 55.8396\n",
       "Q 129.181 56.6689, 129.181 58.3275\n",
       "Q 129.181 60.0216, 129.868 60.8746\n",
       "Q 130.567 61.7275, 131.847 61.7275\n",
       "' fill='#FF0000'/>\n",
       "<path  class='atom-3' d='M 165.533 91.1021\n",
       "L 168.282 95.5447\n",
       "Q 168.554 95.9831, 168.993 96.7768\n",
       "Q 169.431 97.5706, 169.455 97.618\n",
       "L 169.455 91.1021\n",
       "L 170.568 91.1021\n",
       "L 170.568 99.4898\n",
       "L 169.419 99.4898\n",
       "L 166.469 94.6325\n",
       "Q 166.126 94.0639, 165.759 93.4123\n",
       "Q 165.403 92.7607, 165.296 92.5593\n",
       "L 165.296 99.4898\n",
       "L 164.207 99.4898\n",
       "L 164.207 91.1021\n",
       "L 165.533 91.1021\n",
       "' fill='#0000FF'/>\n",
       "<path  class='atom-3' d='M 164.106 100.329\n",
       "L 165.243 100.329\n",
       "L 165.243 103.894\n",
       "L 169.532 103.894\n",
       "L 169.532 100.329\n",
       "L 170.669 100.329\n",
       "L 170.669 108.716\n",
       "L 169.532 108.716\n",
       "L 169.532 104.842\n",
       "L 165.243 104.842\n",
       "L 165.243 108.716\n",
       "L 164.106 108.716\n",
       "L 164.106 100.329\n",
       "' fill='#0000FF'/>\n",
       "<path  class='atom-8' d='M 259.303 16.0446\n",
       "L 262.052 20.4872\n",
       "Q 262.324 20.9255, 262.763 21.7193\n",
       "Q 263.201 22.513, 263.225 22.5604\n",
       "L 263.225 16.0446\n",
       "L 264.338 16.0446\n",
       "L 264.338 24.4322\n",
       "L 263.189 24.4322\n",
       "L 260.239 19.575\n",
       "Q 259.896 19.0063, 259.529 18.3547\n",
       "Q 259.173 17.7032, 259.067 17.5018\n",
       "L 259.067 24.4322\n",
       "L 257.977 24.4322\n",
       "L 257.977 16.0446\n",
       "L 259.303 16.0446\n",
       "' fill='#0000FF'/>\n",
       "<path  class='atom-8' d='M 257.876 6.81818\n",
       "L 259.013 6.81818\n",
       "L 259.013 10.3841\n",
       "L 263.302 10.3841\n",
       "L 263.302 6.81818\n",
       "L 264.439 6.81818\n",
       "L 264.439 15.2058\n",
       "L 263.302 15.2058\n",
       "L 263.302 11.3319\n",
       "L 259.013 11.3319\n",
       "L 259.013 15.2058\n",
       "L 257.876 15.2058\n",
       "L 257.876 6.81818\n",
       "' fill='#0000FF'/>\n",
       "<path  class='atom-13' d='M 324.719 117.091\n",
       "Q 324.719 115.077, 325.714 113.951\n",
       "Q 326.709 112.826, 328.569 112.826\n",
       "Q 330.429 112.826, 331.424 113.951\n",
       "Q 332.419 115.077, 332.419 117.091\n",
       "Q 332.419 119.128, 331.412 120.289\n",
       "Q 330.405 121.438, 328.569 121.438\n",
       "Q 326.721 121.438, 325.714 120.289\n",
       "Q 324.719 119.14, 324.719 117.091\n",
       "M 328.569 120.491\n",
       "Q 329.848 120.491, 330.535 119.638\n",
       "Q 331.234 118.773, 331.234 117.091\n",
       "Q 331.234 115.444, 330.535 114.614\n",
       "Q 329.848 113.773, 328.569 113.773\n",
       "Q 327.289 113.773, 326.59 114.603\n",
       "Q 325.903 115.432, 325.903 117.091\n",
       "Q 325.903 118.785, 326.59 119.638\n",
       "Q 327.289 120.491, 328.569 120.491\n",
       "' fill='#FF0000'/>\n",
       "</svg>\n"
      ],
      "text/plain": [
       "'CC(=O)NCCC1=CNc2c1cc(OC)cc2'"
      ]
     },
     "execution_count": 8,
     "metadata": {},
     "output_type": "execute_result"
    }
   ],
   "source": [
    "from rdkit import Chem\n",
    "from rdkit.Chem.Draw import IPythonConsole\n",
    "from rdkit import RDLogger\n",
    "\n",
    "IPythonConsole.ipython_useSVG = True\n",
    "\n",
    "SMILES_CHARS = \"AaBbCcDdEeFfGgHhIiKkLlMmNnOoPpRrSsTtUuVvWXYyZ0123456789()[].-=#$:/\\\\+-@\"\n",
    "\n",
    "def smiles_to_svg(smiles):\n",
    "    if all(char in SMILES_CHARS for char in smiles):\n",
    "        RDLogger.DisableLog(\"rdApp.*\")\n",
    "        try:\n",
    "            mol = Chem.MolFromSmiles(smiles)\n",
    "            svg = IPythonConsole._toSVG(mol)\n",
    "        except Exception:\n",
    "            svg = None\n",
    "        RDLogger.EnableLog(\"rdApp.*\")\n",
    "        return svg\n",
    "\n",
    "(get_ipython()\n",
    " .display_formatter.formatters['image/svg+xml']\n",
    " .for_type(str, smiles_to_svg))\n",
    "\n",
    "\"CC(=O)NCCC1=CNc2c1cc(OC)cc2\""
   ]
  },
  {
   "cell_type": "code",
   "execution_count": 9,
   "id": "931fdfd1",
   "metadata": {},
   "outputs": [
    {
     "data": {
      "image/svg+xml": [
       "<?xml version='1.0' encoding='iso-8859-1'?>\n",
       "<svg version='1.1' baseProfile='full'\n",
       "              xmlns='http://www.w3.org/2000/svg'\n",
       "                      xmlns:rdkit='http://www.rdkit.org/xml'\n",
       "                      xmlns:xlink='http://www.w3.org/1999/xlink'\n",
       "                  xml:space='preserve'\n",
       "width='450px' height='150px' viewBox='0 0 450 150'>\n",
       "<!-- END OF HEADER -->\n",
       "<rect style='opacity:1.0;fill:#FFFFFF;stroke:none' width='450' height='150' x='0' y='0'> </rect>\n",
       "<path class='bond-0' d='M 307.659,103.774 L 299.017,92.9904' style='fill:none;fill-rule:evenodd;stroke:#000000;stroke-width:2.0px;stroke-linecap:butt;stroke-linejoin:miter;stroke-opacity:1' />\n",
       "<path class='bond-0' d='M 299.017,92.9904 L 290.374,82.2066' style='fill:none;fill-rule:evenodd;stroke:#0000FF;stroke-width:2.0px;stroke-linecap:butt;stroke-linejoin:miter;stroke-opacity:1' />\n",
       "<path class='bond-1' d='M 287.328,70.5727 L 291.153,56.5825' style='fill:none;fill-rule:evenodd;stroke:#0000FF;stroke-width:2.0px;stroke-linecap:butt;stroke-linejoin:miter;stroke-opacity:1' />\n",
       "<path class='bond-1' d='M 291.153,56.5825 L 294.978,42.5923' style='fill:none;fill-rule:evenodd;stroke:#000000;stroke-width:2.0px;stroke-linecap:butt;stroke-linejoin:miter;stroke-opacity:1' />\n",
       "<path class='bond-13' d='M 281.089,76.634 L 265.899,77.3531' style='fill:none;fill-rule:evenodd;stroke:#0000FF;stroke-width:2.0px;stroke-linecap:butt;stroke-linejoin:miter;stroke-opacity:1' />\n",
       "<path class='bond-13' d='M 265.899,77.3531 L 250.708,78.0723' style='fill:none;fill-rule:evenodd;stroke:#000000;stroke-width:2.0px;stroke-linecap:butt;stroke-linejoin:miter;stroke-opacity:1' />\n",
       "<path class='bond-2' d='M 294.978,42.5923 L 282.644,34.494' style='fill:none;fill-rule:evenodd;stroke:#000000;stroke-width:2.0px;stroke-linecap:butt;stroke-linejoin:miter;stroke-opacity:1' />\n",
       "<path class='bond-2' d='M 282.644,34.494 L 270.31,26.3956' style='fill:none;fill-rule:evenodd;stroke:#0000FF;stroke-width:2.0px;stroke-linecap:butt;stroke-linejoin:miter;stroke-opacity:1' />\n",
       "<path class='bond-2' d='M 287.428,46.0247 L 278.795,40.3558' style='fill:none;fill-rule:evenodd;stroke:#000000;stroke-width:2.0px;stroke-linecap:butt;stroke-linejoin:miter;stroke-opacity:1' />\n",
       "<path class='bond-2' d='M 278.795,40.3558 L 270.162,34.687' style='fill:none;fill-rule:evenodd;stroke:#0000FF;stroke-width:2.0px;stroke-linecap:butt;stroke-linejoin:miter;stroke-opacity:1' />\n",
       "<path class='bond-3' d='M 261.026,27.068 L 249.667,36.1716' style='fill:none;fill-rule:evenodd;stroke:#0000FF;stroke-width:2.0px;stroke-linecap:butt;stroke-linejoin:miter;stroke-opacity:1' />\n",
       "<path class='bond-3' d='M 249.667,36.1716 L 238.308,45.2752' style='fill:none;fill-rule:evenodd;stroke:#000000;stroke-width:2.0px;stroke-linecap:butt;stroke-linejoin:miter;stroke-opacity:1' />\n",
       "<path class='bond-4' d='M 238.308,45.2752 L 250.708,78.0723' style='fill:none;fill-rule:evenodd;stroke:#000000;stroke-width:2.0px;stroke-linecap:butt;stroke-linejoin:miter;stroke-opacity:1' />\n",
       "<path class='bond-4' d='M 246.727,47.7148 L 255.407,70.6728' style='fill:none;fill-rule:evenodd;stroke:#000000;stroke-width:2.0px;stroke-linecap:butt;stroke-linejoin:miter;stroke-opacity:1' />\n",
       "<path class='bond-14' d='M 238.308,45.2752 L 223.328,42.8249' style='fill:none;fill-rule:evenodd;stroke:#000000;stroke-width:2.0px;stroke-linecap:butt;stroke-linejoin:miter;stroke-opacity:1' />\n",
       "<path class='bond-14' d='M 223.328,42.8249 L 208.347,40.3746' style='fill:none;fill-rule:evenodd;stroke:#0000FF;stroke-width:2.0px;stroke-linecap:butt;stroke-linejoin:miter;stroke-opacity:1' />\n",
       "<path class='bond-5' d='M 250.708,78.0723 L 228.505,105.209' style='fill:none;fill-rule:evenodd;stroke:#000000;stroke-width:2.0px;stroke-linecap:butt;stroke-linejoin:miter;stroke-opacity:1' />\n",
       "<path class='bond-6' d='M 225.225,106.449 L 230.31,119.899' style='fill:none;fill-rule:evenodd;stroke:#000000;stroke-width:2.0px;stroke-linecap:butt;stroke-linejoin:miter;stroke-opacity:1' />\n",
       "<path class='bond-6' d='M 230.31,119.899 L 235.395,133.349' style='fill:none;fill-rule:evenodd;stroke:#FF0000;stroke-width:2.0px;stroke-linecap:butt;stroke-linejoin:miter;stroke-opacity:1' />\n",
       "<path class='bond-6' d='M 231.784,103.969 L 236.87,117.419' style='fill:none;fill-rule:evenodd;stroke:#000000;stroke-width:2.0px;stroke-linecap:butt;stroke-linejoin:miter;stroke-opacity:1' />\n",
       "<path class='bond-6' d='M 236.87,117.419 L 241.955,130.869' style='fill:none;fill-rule:evenodd;stroke:#FF0000;stroke-width:2.0px;stroke-linecap:butt;stroke-linejoin:miter;stroke-opacity:1' />\n",
       "<path class='bond-7' d='M 228.505,105.209 L 213.524,102.759' style='fill:none;fill-rule:evenodd;stroke:#000000;stroke-width:2.0px;stroke-linecap:butt;stroke-linejoin:miter;stroke-opacity:1' />\n",
       "<path class='bond-7' d='M 213.524,102.759 L 198.544,100.309' style='fill:none;fill-rule:evenodd;stroke:#0000FF;stroke-width:2.0px;stroke-linecap:butt;stroke-linejoin:miter;stroke-opacity:1' />\n",
       "<path class='bond-8' d='M 191.693,93.708 L 186.597,80.2302' style='fill:none;fill-rule:evenodd;stroke:#0000FF;stroke-width:2.0px;stroke-linecap:butt;stroke-linejoin:miter;stroke-opacity:1' />\n",
       "<path class='bond-8' d='M 186.597,80.2302 L 181.502,66.7524' style='fill:none;fill-rule:evenodd;stroke:#000000;stroke-width:2.0px;stroke-linecap:butt;stroke-linejoin:miter;stroke-opacity:1' />\n",
       "<path class='bond-12' d='M 189.259,105.223 L 180.479,115.955' style='fill:none;fill-rule:evenodd;stroke:#0000FF;stroke-width:2.0px;stroke-linecap:butt;stroke-linejoin:miter;stroke-opacity:1' />\n",
       "<path class='bond-12' d='M 180.479,115.955 L 171.699,126.687' style='fill:none;fill-rule:evenodd;stroke:#000000;stroke-width:2.0px;stroke-linecap:butt;stroke-linejoin:miter;stroke-opacity:1' />\n",
       "<path class='bond-9' d='M 182.068,63.2921 L 167.484,60.9066' style='fill:none;fill-rule:evenodd;stroke:#000000;stroke-width:2.0px;stroke-linecap:butt;stroke-linejoin:miter;stroke-opacity:1' />\n",
       "<path class='bond-9' d='M 167.484,60.9066 L 152.9,58.5211' style='fill:none;fill-rule:evenodd;stroke:#FF0000;stroke-width:2.0px;stroke-linecap:butt;stroke-linejoin:miter;stroke-opacity:1' />\n",
       "<path class='bond-9' d='M 180.936,70.2127 L 166.352,67.8272' style='fill:none;fill-rule:evenodd;stroke:#000000;stroke-width:2.0px;stroke-linecap:butt;stroke-linejoin:miter;stroke-opacity:1' />\n",
       "<path class='bond-9' d='M 166.352,67.8272 L 151.768,65.4417' style='fill:none;fill-rule:evenodd;stroke:#FF0000;stroke-width:2.0px;stroke-linecap:butt;stroke-linejoin:miter;stroke-opacity:1' />\n",
       "<path class='bond-10' d='M 181.502,66.7524 L 190.282,56.0208' style='fill:none;fill-rule:evenodd;stroke:#000000;stroke-width:2.0px;stroke-linecap:butt;stroke-linejoin:miter;stroke-opacity:1' />\n",
       "<path class='bond-10' d='M 190.282,56.0208 L 199.063,45.2892' style='fill:none;fill-rule:evenodd;stroke:#0000FF;stroke-width:2.0px;stroke-linecap:butt;stroke-linejoin:miter;stroke-opacity:1' />\n",
       "<path class='bond-11' d='M 201.496,33.7738 L 196.401,20.296' style='fill:none;fill-rule:evenodd;stroke:#0000FF;stroke-width:2.0px;stroke-linecap:butt;stroke-linejoin:miter;stroke-opacity:1' />\n",
       "<path class='bond-11' d='M 196.401,20.296 L 191.305,6.81818' style='fill:none;fill-rule:evenodd;stroke:#000000;stroke-width:2.0px;stroke-linecap:butt;stroke-linejoin:miter;stroke-opacity:1' />\n",
       "<path  class='atom-1' d='M 283.537 71.4493\n",
       "L 286.79 76.7087\n",
       "Q 287.113 77.2276, 287.632 78.1673\n",
       "Q 288.151 79.107, 288.179 79.1631\n",
       "L 288.179 71.4493\n",
       "L 289.497 71.4493\n",
       "L 289.497 81.3791\n",
       "L 288.137 81.3791\n",
       "L 284.645 75.6288\n",
       "Q 284.238 74.9556, 283.803 74.1842\n",
       "Q 283.382 73.4128, 283.256 73.1744\n",
       "L 283.256 81.3791\n",
       "L 281.966 81.3791\n",
       "L 281.966 71.4493\n",
       "L 283.537 71.4493\n",
       "' fill='#0000FF'/>\n",
       "<path  class='atom-3' d='M 263.473 18.3825\n",
       "L 266.727 23.6419\n",
       "Q 267.05 24.1608, 267.569 25.1005\n",
       "Q 268.088 26.0402, 268.116 26.0963\n",
       "L 268.116 18.3825\n",
       "L 269.434 18.3825\n",
       "L 269.434 28.3123\n",
       "L 268.073 28.3123\n",
       "L 264.581 22.562\n",
       "Q 264.174 21.8888, 263.74 21.1174\n",
       "Q 263.319 20.346, 263.193 20.1076\n",
       "L 263.193 28.3123\n",
       "L 261.902 28.3123\n",
       "L 261.902 18.3825\n",
       "L 263.473 18.3825\n",
       "' fill='#0000FF'/>\n",
       "<path  class='atom-7' d='M 236.346 138.035\n",
       "Q 236.346 135.65, 237.525 134.318\n",
       "Q 238.703 132.986, 240.905 132.986\n",
       "Q 243.107 132.986, 244.285 134.318\n",
       "Q 245.463 135.65, 245.463 138.035\n",
       "Q 245.463 140.447, 244.271 141.821\n",
       "Q 243.078 143.182, 240.905 143.182\n",
       "Q 238.717 143.182, 237.525 141.821\n",
       "Q 236.346 140.461, 236.346 138.035\n",
       "M 240.905 142.06\n",
       "Q 242.419 142.06, 243.233 141.05\n",
       "Q 244.06 140.026, 244.06 138.035\n",
       "Q 244.06 136.085, 243.233 135.103\n",
       "Q 242.419 134.108, 240.905 134.108\n",
       "Q 239.39 134.108, 238.562 135.089\n",
       "Q 237.749 136.071, 237.749 138.035\n",
       "Q 237.749 140.04, 238.562 141.05\n",
       "Q 239.39 142.06, 240.905 142.06\n",
       "' fill='#FF0000'/>\n",
       "<path  class='atom-8' d='M 191.707 94.5846\n",
       "L 194.961 99.844\n",
       "Q 195.283 100.363, 195.802 101.303\n",
       "Q 196.321 102.242, 196.349 102.298\n",
       "L 196.349 94.5846\n",
       "L 197.667 94.5846\n",
       "L 197.667 104.514\n",
       "L 196.307 104.514\n",
       "L 192.815 98.7641\n",
       "Q 192.408 98.0909, 191.973 97.3195\n",
       "Q 191.552 96.5481, 191.426 96.3097\n",
       "L 191.426 104.514\n",
       "L 190.136 104.514\n",
       "L 190.136 94.5846\n",
       "L 191.707 94.5846\n",
       "' fill='#0000FF'/>\n",
       "<path  class='atom-10' d='M 142.341 61.1205\n",
       "Q 142.341 58.7362, 143.519 57.4039\n",
       "Q 144.697 56.0715, 146.899 56.0715\n",
       "Q 149.101 56.0715, 150.279 57.4039\n",
       "Q 151.457 58.7362, 151.457 61.1205\n",
       "Q 151.457 63.5328, 150.265 64.9073\n",
       "Q 149.073 66.2678, 146.899 66.2678\n",
       "Q 144.711 66.2678, 143.519 64.9073\n",
       "Q 142.341 63.5469, 142.341 61.1205\n",
       "M 146.899 65.1457\n",
       "Q 148.413 65.1457, 149.227 64.1359\n",
       "Q 150.054 63.1121, 150.054 61.1205\n",
       "Q 150.054 59.171, 149.227 58.1893\n",
       "Q 148.413 57.1935, 146.899 57.1935\n",
       "Q 145.384 57.1935, 144.557 58.1752\n",
       "Q 143.743 59.157, 143.743 61.1205\n",
       "Q 143.743 63.1261, 144.557 64.1359\n",
       "Q 145.384 65.1457, 146.899 65.1457\n",
       "' fill='#FF0000'/>\n",
       "<path  class='atom-11' d='M 201.51 34.6504\n",
       "L 204.764 39.9098\n",
       "Q 205.086 40.4287, 205.605 41.3684\n",
       "Q 206.124 42.3081, 206.152 42.3642\n",
       "L 206.152 34.6504\n",
       "L 207.471 34.6504\n",
       "L 207.471 44.5802\n",
       "L 206.11 44.5802\n",
       "L 202.618 38.8299\n",
       "Q 202.211 38.1567, 201.777 37.3853\n",
       "Q 201.356 36.6139, 201.23 36.3755\n",
       "L 201.23 44.5802\n",
       "L 199.939 44.5802\n",
       "L 199.939 34.6504\n",
       "L 201.51 34.6504\n",
       "' fill='#0000FF'/>\n",
       "</svg>\n"
      ],
      "text/plain": [
       "'CN1C=NC2=C1C(=O)N(C(=O)N2C)C'"
      ]
     },
     "execution_count": 9,
     "metadata": {},
     "output_type": "execute_result"
    }
   ],
   "source": [
    "\"CN1C=NC2=C1C(=O)N(C(=O)N2C)C\""
   ]
  },
  {
   "cell_type": "code",
   "execution_count": 10,
   "id": "8e36d6c2",
   "metadata": {},
   "outputs": [
    {
     "data": {
      "text/plain": [
       "'a normal string'"
      ]
     },
     "execution_count": 10,
     "metadata": {},
     "output_type": "execute_result"
    }
   ],
   "source": [
    "\"a normal string\""
   ]
  },
  {
   "cell_type": "markdown",
   "id": "0a0b4bf5",
   "metadata": {},
   "source": [
    "The only ambiguous case that could work both as a word (kind of) and a valid SMILES that I could think of:"
   ]
  },
  {
   "cell_type": "code",
   "execution_count": 11,
   "id": "5b052769",
   "metadata": {},
   "outputs": [
    {
     "data": {
      "image/svg+xml": [
       "<?xml version='1.0' encoding='iso-8859-1'?>\n",
       "<svg version='1.1' baseProfile='full'\n",
       "              xmlns='http://www.w3.org/2000/svg'\n",
       "                      xmlns:rdkit='http://www.rdkit.org/xml'\n",
       "                      xmlns:xlink='http://www.w3.org/1999/xlink'\n",
       "                  xml:space='preserve'\n",
       "width='450px' height='150px' viewBox='0 0 450 150'>\n",
       "<!-- END OF HEADER -->\n",
       "<rect style='opacity:1.0;fill:#FFFFFF;stroke:none' width='450' height='150' x='0' y='0'> </rect>\n",
       "<path class='bond-0' d='M 420.527,124.424 L 337.903,76.7212' style='fill:none;fill-rule:evenodd;stroke:#A01EEF;stroke-width:2.0px;stroke-linecap:butt;stroke-linejoin:miter;stroke-opacity:1' />\n",
       "<path class='bond-0' d='M 337.903,76.7212 L 255.28,29.0185' style='fill:none;fill-rule:evenodd;stroke:#CCCC00;stroke-width:2.0px;stroke-linecap:butt;stroke-linejoin:miter;stroke-opacity:1' />\n",
       "<path class='bond-1' d='M 226.545,29.14 L 149.368,73.6983' style='fill:none;fill-rule:evenodd;stroke:#CCCC00;stroke-width:2.0px;stroke-linecap:butt;stroke-linejoin:miter;stroke-opacity:1' />\n",
       "<path class='bond-1' d='M 149.368,73.6983 L 72.1909,118.257' style='fill:none;fill-rule:evenodd;stroke:#FF0000;stroke-width:2.0px;stroke-linecap:butt;stroke-linejoin:miter;stroke-opacity:1' />\n",
       "<path  class='atom-0' d='M 425.919 114.414\n",
       "L 429.719 114.414\n",
       "L 429.719 142.854\n",
       "L 425.919 142.854\n",
       "L 425.919 114.414\n",
       "' fill='#A01EEF'/>\n",
       "<path  class='atom-1' d='M 233.018 30.5043\n",
       "Q 233.338 30.6243, 234.658 31.1843\n",
       "Q 235.978 31.7443, 237.418 32.1043\n",
       "Q 238.898 32.4243, 240.338 32.4243\n",
       "Q 243.018 32.4243, 244.578 31.1443\n",
       "Q 246.138 29.8243, 246.138 27.5443\n",
       "Q 246.138 25.9843, 245.338 25.0243\n",
       "Q 244.578 24.0643, 243.378 23.5443\n",
       "Q 242.178 23.0243, 240.178 22.4243\n",
       "Q 237.658 21.6643, 236.138 20.9443\n",
       "Q 234.658 20.2243, 233.578 18.7043\n",
       "Q 232.538 17.1843, 232.538 14.6243\n",
       "Q 232.538 11.0643, 234.938 8.86431\n",
       "Q 237.378 6.66431, 242.178 6.66431\n",
       "Q 245.458 6.66431, 249.178 8.22431\n",
       "L 248.258 11.3043\n",
       "Q 244.858 9.90431, 242.298 9.90431\n",
       "Q 239.538 9.90431, 238.018 11.0643\n",
       "Q 236.498 12.1843, 236.538 14.1443\n",
       "Q 236.538 15.6643, 237.298 16.5843\n",
       "Q 238.098 17.5043, 239.218 18.0243\n",
       "Q 240.378 18.5443, 242.298 19.1443\n",
       "Q 244.858 19.9443, 246.378 20.7443\n",
       "Q 247.898 21.5443, 248.978 23.1843\n",
       "Q 250.098 24.7843, 250.098 27.5443\n",
       "Q 250.098 31.4643, 247.458 33.5843\n",
       "Q 244.858 35.6643, 240.498 35.6643\n",
       "Q 237.978 35.6643, 236.058 35.1043\n",
       "Q 234.178 34.5843, 231.938 33.6643\n",
       "L 233.018 30.5043\n",
       "' fill='#CCCC00'/>\n",
       "<path  class='atom-2' d='M 17.0562 114.634\n",
       "L 20.8962 114.634\n",
       "L 20.8962 126.674\n",
       "L 35.3762 126.674\n",
       "L 35.3762 114.634\n",
       "L 39.2162 114.634\n",
       "L 39.2162 142.954\n",
       "L 35.3762 142.954\n",
       "L 35.3762 129.874\n",
       "L 20.8962 129.874\n",
       "L 20.8962 142.954\n",
       "L 17.0562 142.954\n",
       "L 17.0562 114.634\n",
       "' fill='#FF0000'/>\n",
       "<path  class='atom-2' d='M 41.2162 128.714\n",
       "Q 41.2162 121.914, 44.5762 118.114\n",
       "Q 47.9362 114.314, 54.2162 114.314\n",
       "Q 60.4962 114.314, 63.8562 118.114\n",
       "Q 67.2162 121.914, 67.2162 128.714\n",
       "Q 67.2162 135.594, 63.8162 139.514\n",
       "Q 60.4162 143.394, 54.2162 143.394\n",
       "Q 47.9762 143.394, 44.5762 139.514\n",
       "Q 41.2162 135.634, 41.2162 128.714\n",
       "M 54.2162 140.194\n",
       "Q 58.5362 140.194, 60.8562 137.314\n",
       "Q 63.2162 134.394, 63.2162 128.714\n",
       "Q 63.2162 123.154, 60.8562 120.354\n",
       "Q 58.5362 117.514, 54.2162 117.514\n",
       "Q 49.8962 117.514, 47.5362 120.314\n",
       "Q 45.2162 123.114, 45.2162 128.714\n",
       "Q 45.2162 134.434, 47.5362 137.314\n",
       "Q 49.8962 140.194, 54.2162 140.194\n",
       "' fill='#FF0000'/>\n",
       "</svg>\n"
      ],
      "text/plain": [
       "'ISO'"
      ]
     },
     "execution_count": 11,
     "metadata": {},
     "output_type": "execute_result"
    }
   ],
   "source": [
    "\"ISO\""
   ]
  },
  {
   "cell_type": "markdown",
   "id": "e29c0e21",
   "metadata": {},
   "source": [
    "Now you might say\n",
    "\n",
    ">\"But wait Cedric, I have to type all that boilerplate code out of lazyness? That doesn't make any sense!\"\n",
    "\n",
    "And you'd be right! Now here comes the most usefull part of this blog post:\n",
    "\n",
    "To run this code (or literally any code) everytime you open a notebook or IPython shell, you can create an **IPython startup file**.\n",
    "\n",
    "Start by creating a default profile by typing this command in your bash shell: `ipython profile create`\n",
    "\n",
    "You should now have a `~/.ipython/profile_default` folder.\n",
    "\n",
    "Then you just need to add a file ending in `.py` in `~/.ipython/profile_default/startup/` with whatever code you need. This could be the above snippets, but also importing libraries that you use a lot, or setting up some defaults such as\n",
    "```python\n",
    "from rdkit.Chem.Draw import IPythonConsole\n",
    "IPythonConsole.ipython_useSVG = True\n",
    "```"
   ]
  }
 ],
 "metadata": {
  "kernelspec": {
   "display_name": "Python 3 (ipykernel)",
   "language": "python",
   "name": "python3"
  },
  "language_info": {
   "codemirror_mode": {
    "name": "ipython",
    "version": 3
   },
   "file_extension": ".py",
   "mimetype": "text/x-python",
   "name": "python",
   "nbconvert_exporter": "python",
   "pygments_lexer": "ipython3",
   "version": "3.7.4"
  }
 },
 "nbformat": 4,
 "nbformat_minor": 5
}
